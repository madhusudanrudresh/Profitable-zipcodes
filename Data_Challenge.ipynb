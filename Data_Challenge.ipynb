{
 "cells": [
  {
   "cell_type": "markdown",
   "metadata": {
    "slideshow": {
     "slide_type": "slide"
    }
   },
   "source": [
    "<h1 align=\"center\">Capital One Data Challenge</h1> "
   ]
  },
  {
   "cell_type": "markdown",
   "metadata": {
    "slideshow": {
     "slide_type": "slide"
    }
   },
   "source": [
    "## Problem Statement\n",
    "\n",
    "As a consultant to the real estate company, here is the task of analyzing the properties in the New York City for short term rental options and suggesting the top zip codes to invest in. The company has already concluded that two bedroom properties are the best to invest in as its profitable. "
   ]
  },
  {
   "cell_type": "markdown",
   "metadata": {
    "slideshow": {
     "slide_type": "slide"
    }
   },
   "source": [
    "## Data Source\n",
    "\n",
    "There are two datasets provided for the analysis:\n",
    "1. Revenue data (Airbnb) - Detailed information about the properties situated in New York City.\n",
    "2. Cost data (Zillow) - Estimate for two-bedroom properties."
   ]
  },
  {
   "cell_type": "markdown",
   "metadata": {
    "slideshow": {
     "slide_type": "slide"
    }
   },
   "source": [
    "## Assumptions\n",
    "\n",
    "Here are some assumptions that are taken in this analysis:\n",
    "- Occupancy rate of 75%  for the properties in the New York City.\n",
    "- The investor will pay for the property in cash (i.e. no mortgage/interest rate will need to be accounted for).\n",
    "- The time value of money discount rate is 0% (i.e. $1 today is worth the same 100 years from now).\n",
    "- All properties and all square feet within each locale can be assumed to be homogeneous (i.e. a 1000 square foot property in a locale such as Bronx or Manhattan generates twice the revenue and costs twice as much as any other 500 square foot property within that same locale.)\n",
    "- Cleaning fees that are charged are always in excess of how much it actually costs for cleaning. 25% of the cleaning fees is considered in calculating annual revenue."
   ]
  },
  {
   "cell_type": "markdown",
   "metadata": {
    "slideshow": {
     "slide_type": "skip"
    }
   },
   "source": [
    "## Metadata Created\n",
    "\n",
    "1. Annual_Revenue - The amount of money that would be generated considering 75% occupancy rate. Both rental price and cleaning fees (25%) have been considered while calculating this field.\n",
    "2. Breakeven_period - The average time, in years, the properties takes to reach breakeven, i.e. to start earning profits\n",
    "3. Appreciation - Factor by which the properties located in a particular zipcode has appreciated in the five years window, i.e. between 2012-06 to 2017-06"
   ]
  },
  {
   "cell_type": "markdown",
   "metadata": {
    "slideshow": {
     "slide_type": "slide"
    }
   },
   "source": [
    "## Approach for analysis\n",
    "\n",
    "In order to find the most profitable zipcodes to invest in, I will be implementing the following steps:\n",
    "\n",
    "1. Understanding the data - The most important thing to do before starting the analysis is to understand the data. In this step, I will be checking the distribution of the data, relationship between different variables, missing values, outliers, etc.\n",
    "\n",
    "2. Data Preparation - In order to perform the analysis, the data has to be prepared in a way that issues encountered in step 1 is resolved. In this step, I will be imputing the data wherever the values are missing using the right imputation technique. Outliers will be removed to avoid skewness in the data. Relevant variables will be included for further analysis\n",
    "\n",
    "3. Exploratory data Analysis - Once the data is prepared, it is ready to do some exploratory analysis. In this step, I will be diving deep to understand the data further. Various types of visualizations will be also be used to extract insights.\n",
    "\n",
    "4. Coming up with different approaches - There would be many ways of finding the right locality to invest in. Therefore, it is good to evaluate every approach in order to find the best zipcodes.\n",
    "\n",
    "5. Solution - After evaluating all the approaches, I will select the one which would be reasonable and be aligned with company's goals. "
   ]
  },
  {
   "cell_type": "code",
   "execution_count": 1,
   "metadata": {
    "slideshow": {
     "slide_type": "slide"
    }
   },
   "outputs": [],
   "source": [
    "# Importing the libraries\n",
    "import numpy as np\n",
    "import pandas as pd\n",
    "import matplotlib.pyplot as plt\n",
    "import seaborn as sns\n",
    "%matplotlib inline"
   ]
  },
  {
   "cell_type": "code",
   "execution_count": 2,
   "metadata": {
    "slideshow": {
     "slide_type": "slide"
    }
   },
   "outputs": [
    {
     "name": "stderr",
     "output_type": "stream",
     "text": [
      "C:\\Users\\Madhusudan Rudresh\\Anaconda3\\lib\\site-packages\\IPython\\core\\interactiveshell.py:3020: DtypeWarning: Columns (43,61,62,94,95) have mixed types. Specify dtype option on import or set low_memory=False.\n",
      "  interactivity=interactivity, compiler=compiler, result=result)\n"
     ]
    }
   ],
   "source": [
    "#Reading the listing.csv dataset \n",
    "airbnb = pd.read_csv('F:/Capital One/listings.csv.gz', compression='gzip')\n",
    "\n",
    "#Reading the Zip_Zhvi_2bedroom.csv dataset\n",
    "zillow = pd.read_csv('F:/Capital One/Zip_Zhvi_2bedroom.csv')"
   ]
  },
  {
   "cell_type": "code",
   "execution_count": 3,
   "metadata": {
    "slideshow": {
     "slide_type": "slide"
    }
   },
   "outputs": [
    {
     "data": {
      "text/plain": [
       "(48895, 106)"
      ]
     },
     "execution_count": 3,
     "metadata": {},
     "output_type": "execute_result"
    }
   ],
   "source": [
    "# Dimension of the airbnb dataset\n",
    "airbnb.shape"
   ]
  },
  {
   "cell_type": "code",
   "execution_count": 4,
   "metadata": {
    "slideshow": {
     "slide_type": "slide"
    }
   },
   "outputs": [
    {
     "name": "stdout",
     "output_type": "stream",
     "text": [
      "There are 63 categorical columns in the airbnb dataset\n",
      "There are 43 numerical columns in the airbnb dataset\n"
     ]
    }
   ],
   "source": [
    "# Checking for number of categorical and numerical features present in the dataset\n",
    "categorical = len(airbnb.select_dtypes(include=['object']).columns.tolist())\n",
    "numerical = len(airbnb.select_dtypes(include=['number']).columns.tolist())\n",
    "print(\"There are {} categorical columns in the airbnb dataset\".format(categorical))\n",
    "print(\"There are {} numerical columns in the airbnb dataset\".format(numerical))"
   ]
  },
  {
   "cell_type": "markdown",
   "metadata": {
    "slideshow": {
     "slide_type": "slide"
    }
   },
   "source": [
    "In order to filter out the most profitable zipcodes to invest in, I have shortlisted the relevant features from the dataset. The features which were relevant to the houses have been considered.\n",
    "Here is the short description of what the features mean\n",
    "- id : Identifier used by AirbnB for the listing\n",
    "- neighbourhood_group_cleansed : Name of the area where the property is located. \n",
    "- state : State where the property is located. \n",
    "- zipcode : Zip code where the property is located. \n",
    "- property_type : Indicates the type of house is this is considered.  Examples are house, apartment, townhomes, etc...\n",
    "- room_type : Indicates specific rooms available for rent and/or the entire home. \n",
    "- bedrooms : Indicates the number of bedrooms within the property. \n",
    "- bed_type : Indicates the type of bed the property has.  ie. futon, real bed, airbed, etc. \n",
    "- latitude : The angular distance of a place north or south of the earth's equator, expressed in degrees and minutes.\n",
    "- longitude : The angular distance of a place east or west of the meridian at Greenwich, England, expressed in degrees and minutes.\n",
    "- square_feet : Square footage of the property or space for rent. \n",
    "- price : Price the host is charging to stay per night.\n",
    "- cleaning_fee : Price the host is charging to clean up after your stay. \n",
    "- review_scores_rating : Overall score given based on accuracy, cleanliness, check-in, communication, location, and value. "
   ]
  },
  {
   "cell_type": "code",
   "execution_count": 5,
   "metadata": {
    "slideshow": {
     "slide_type": "slide"
    }
   },
   "outputs": [],
   "source": [
    "# Extracting the relevant columns for analysis\n",
    "airbnb_subset = airbnb[[\"id\",\"neighbourhood_group_cleansed\",\"state\",\"zipcode\",\"property_type\",\"room_type\",\"bedrooms\",\n",
    "                        \"bed_type\",\"latitude\", \"longitude\", \"square_feet\",\"price\",\"cleaning_fee\",\"review_scores_rating\"]]"
   ]
  },
  {
   "cell_type": "code",
   "execution_count": 6,
   "metadata": {
    "slideshow": {
     "slide_type": "slide"
    }
   },
   "outputs": [
    {
     "data": {
      "text/plain": [
       "(48895, 14)"
      ]
     },
     "execution_count": 6,
     "metadata": {},
     "output_type": "execute_result"
    }
   ],
   "source": [
    "# Dimension of the extracted dataset\n",
    "airbnb_subset.shape"
   ]
  },
  {
   "cell_type": "markdown",
   "metadata": {
    "slideshow": {
     "slide_type": "slide"
    }
   },
   "source": [
    "### Understanding the data and Data Preparation"
   ]
  },
  {
   "cell_type": "code",
   "execution_count": 7,
   "metadata": {
    "slideshow": {
     "slide_type": "subslide"
    }
   },
   "outputs": [
    {
     "name": "stdout",
     "output_type": "stream",
     "text": [
      "There are 8 categorical columns in the airbnb dataset\n",
      "There are 6 numerical columns in the airbnb dataset\n"
     ]
    }
   ],
   "source": [
    "# Checking for number of categorical and numerical features present in the dataset\n",
    "categorical = len(airbnb_subset.select_dtypes(include=['object']).columns.tolist())\n",
    "numerical = len(airbnb_subset.select_dtypes(include=['number']).columns.tolist())\n",
    "print(\"There are {} categorical columns in the airbnb dataset\".format(categorical))\n",
    "print(\"There are {} numerical columns in the airbnb dataset\".format(numerical))"
   ]
  },
  {
   "cell_type": "code",
   "execution_count": 8,
   "metadata": {
    "slideshow": {
     "slide_type": "subslide"
    }
   },
   "outputs": [
    {
     "data": {
      "text/html": [
       "<div>\n",
       "<style scoped>\n",
       "    .dataframe tbody tr th:only-of-type {\n",
       "        vertical-align: middle;\n",
       "    }\n",
       "\n",
       "    .dataframe tbody tr th {\n",
       "        vertical-align: top;\n",
       "    }\n",
       "\n",
       "    .dataframe thead th {\n",
       "        text-align: right;\n",
       "    }\n",
       "</style>\n",
       "<table border=\"1\" class=\"dataframe\">\n",
       "  <thead>\n",
       "    <tr style=\"text-align: right;\">\n",
       "      <th></th>\n",
       "      <th>id</th>\n",
       "      <th>bedrooms</th>\n",
       "      <th>latitude</th>\n",
       "      <th>longitude</th>\n",
       "      <th>square_feet</th>\n",
       "      <th>review_scores_rating</th>\n",
       "    </tr>\n",
       "  </thead>\n",
       "  <tbody>\n",
       "    <tr>\n",
       "      <th>count</th>\n",
       "      <td>4.889500e+04</td>\n",
       "      <td>48873.000000</td>\n",
       "      <td>48895.000000</td>\n",
       "      <td>48895.000000</td>\n",
       "      <td>408.000000</td>\n",
       "      <td>37873.000000</td>\n",
       "    </tr>\n",
       "    <tr>\n",
       "      <th>mean</th>\n",
       "      <td>1.901714e+07</td>\n",
       "      <td>1.178237</td>\n",
       "      <td>40.728949</td>\n",
       "      <td>-73.952170</td>\n",
       "      <td>708.120098</td>\n",
       "      <td>93.926438</td>\n",
       "    </tr>\n",
       "    <tr>\n",
       "      <th>std</th>\n",
       "      <td>1.098311e+07</td>\n",
       "      <td>0.755516</td>\n",
       "      <td>0.054530</td>\n",
       "      <td>0.046157</td>\n",
       "      <td>573.520584</td>\n",
       "      <td>8.577791</td>\n",
       "    </tr>\n",
       "    <tr>\n",
       "      <th>min</th>\n",
       "      <td>2.539000e+03</td>\n",
       "      <td>0.000000</td>\n",
       "      <td>40.499790</td>\n",
       "      <td>-74.244420</td>\n",
       "      <td>0.000000</td>\n",
       "      <td>20.000000</td>\n",
       "    </tr>\n",
       "    <tr>\n",
       "      <th>25%</th>\n",
       "      <td>9.471945e+06</td>\n",
       "      <td>1.000000</td>\n",
       "      <td>40.690100</td>\n",
       "      <td>-73.983070</td>\n",
       "      <td>315.000000</td>\n",
       "      <td>92.000000</td>\n",
       "    </tr>\n",
       "    <tr>\n",
       "      <th>50%</th>\n",
       "      <td>1.967728e+07</td>\n",
       "      <td>1.000000</td>\n",
       "      <td>40.723070</td>\n",
       "      <td>-73.955680</td>\n",
       "      <td>700.000000</td>\n",
       "      <td>96.000000</td>\n",
       "    </tr>\n",
       "    <tr>\n",
       "      <th>75%</th>\n",
       "      <td>2.915218e+07</td>\n",
       "      <td>1.000000</td>\n",
       "      <td>40.763115</td>\n",
       "      <td>-73.936275</td>\n",
       "      <td>950.000000</td>\n",
       "      <td>100.000000</td>\n",
       "    </tr>\n",
       "    <tr>\n",
       "      <th>max</th>\n",
       "      <td>3.648724e+07</td>\n",
       "      <td>14.000000</td>\n",
       "      <td>40.913060</td>\n",
       "      <td>-73.712990</td>\n",
       "      <td>5000.000000</td>\n",
       "      <td>100.000000</td>\n",
       "    </tr>\n",
       "  </tbody>\n",
       "</table>\n",
       "</div>"
      ],
      "text/plain": [
       "                 id      bedrooms      latitude     longitude  square_feet  \\\n",
       "count  4.889500e+04  48873.000000  48895.000000  48895.000000   408.000000   \n",
       "mean   1.901714e+07      1.178237     40.728949    -73.952170   708.120098   \n",
       "std    1.098311e+07      0.755516      0.054530      0.046157   573.520584   \n",
       "min    2.539000e+03      0.000000     40.499790    -74.244420     0.000000   \n",
       "25%    9.471945e+06      1.000000     40.690100    -73.983070   315.000000   \n",
       "50%    1.967728e+07      1.000000     40.723070    -73.955680   700.000000   \n",
       "75%    2.915218e+07      1.000000     40.763115    -73.936275   950.000000   \n",
       "max    3.648724e+07     14.000000     40.913060    -73.712990  5000.000000   \n",
       "\n",
       "       review_scores_rating  \n",
       "count          37873.000000  \n",
       "mean              93.926438  \n",
       "std                8.577791  \n",
       "min               20.000000  \n",
       "25%               92.000000  \n",
       "50%               96.000000  \n",
       "75%              100.000000  \n",
       "max              100.000000  "
      ]
     },
     "execution_count": 8,
     "metadata": {},
     "output_type": "execute_result"
    }
   ],
   "source": [
    "# Checking the summary statistics of airbnb_subset dataset\n",
    "airbnb_subset.describe()"
   ]
  },
  {
   "cell_type": "code",
   "execution_count": 9,
   "metadata": {
    "slideshow": {
     "slide_type": "subslide"
    }
   },
   "outputs": [
    {
     "data": {
      "text/plain": [
       "id                                int64\n",
       "neighbourhood_group_cleansed     object\n",
       "state                            object\n",
       "zipcode                          object\n",
       "property_type                    object\n",
       "room_type                        object\n",
       "bedrooms                        float64\n",
       "bed_type                         object\n",
       "latitude                        float64\n",
       "longitude                       float64\n",
       "square_feet                     float64\n",
       "price                            object\n",
       "cleaning_fee                     object\n",
       "review_scores_rating            float64\n",
       "dtype: object"
      ]
     },
     "execution_count": 9,
     "metadata": {},
     "output_type": "execute_result"
    }
   ],
   "source": [
    "# Checking the datatypes of the columns\n",
    "airbnb_subset.dtypes"
   ]
  },
  {
   "cell_type": "markdown",
   "metadata": {
    "slideshow": {
     "slide_type": "fragment"
    }
   },
   "source": [
    "'zipcode', 'price' and 'cleaning_fee' are shown are categorical in this dataset. They should be converted to numerical datatypes"
   ]
  },
  {
   "cell_type": "code",
   "execution_count": 10,
   "metadata": {
    "slideshow": {
     "slide_type": "subslide"
    }
   },
   "outputs": [
    {
     "data": {
      "text/plain": [
       "square_feet                     48487\n",
       "review_scores_rating            11022\n",
       "cleaning_fee                    10645\n",
       "zipcode                           517\n",
       "bedrooms                           22\n",
       "state                               6\n",
       "price                               0\n",
       "longitude                           0\n",
       "latitude                            0\n",
       "bed_type                            0\n",
       "room_type                           0\n",
       "property_type                       0\n",
       "neighbourhood_group_cleansed        0\n",
       "id                                  0\n",
       "dtype: int64"
      ]
     },
     "execution_count": 10,
     "metadata": {},
     "output_type": "execute_result"
    }
   ],
   "source": [
    "# Checking the number of missing values present in the featues in the airbnb_subset datset\n",
    "airbnb_subset.isna().sum().sort_values(ascending=False)"
   ]
  },
  {
   "cell_type": "markdown",
   "metadata": {
    "slideshow": {
     "slide_type": "fragment"
    }
   },
   "source": [
    "square_feet has high number of missing values. Thus, this feature should be dropped"
   ]
  },
  {
   "cell_type": "code",
   "execution_count": 11,
   "metadata": {
    "slideshow": {
     "slide_type": "subslide"
    }
   },
   "outputs": [
    {
     "name": "stderr",
     "output_type": "stream",
     "text": [
      "C:\\Users\\Madhusudan Rudresh\\Anaconda3\\lib\\site-packages\\pandas\\core\\frame.py:3697: SettingWithCopyWarning: \n",
      "A value is trying to be set on a copy of a slice from a DataFrame\n",
      "\n",
      "See the caveats in the documentation: http://pandas.pydata.org/pandas-docs/stable/indexing.html#indexing-view-versus-copy\n",
      "  errors=errors)\n"
     ]
    }
   ],
   "source": [
    "# Dropping the square_feet column \n",
    "airbnb_subset.drop(labels='square_feet', axis=1, inplace=True)"
   ]
  },
  {
   "cell_type": "code",
   "execution_count": 12,
   "metadata": {
    "slideshow": {
     "slide_type": "subslide"
    }
   },
   "outputs": [
    {
     "data": {
      "text/plain": [
       "array(['11218', '10018', '10027', '11238', '10029', '10016', '11216',\n",
       "       '10019', '10025', '10002', '10036', '11215', '10014', '11211',\n",
       "       '11205', '10011', '11217', '10034', '10003', '10031', '11222', nan,\n",
       "       '11237', '11226', '10009', '10024', '11225', '11101', '11221',\n",
       "       '11206', '10010', '11249', '10001', '10162', '10035', '10032',\n",
       "       '10075', '11377', '11201', '11233', '11231', '10023', '10128',\n",
       "       '10040', '11234', '11367', '10028', '11104', '10065', '10301',\n",
       "       '10452', '10006', '10039', '11385', '10021', '11434', '11379',\n",
       "       '10026', '11105', '10044', '10022', '10013', '11103', '10473',\n",
       "       '10475', '11213', '10468', '11102', '10038', '10033', '11427',\n",
       "       '11693', '10012', '11375', '10470', '10030', '10453', '11223',\n",
       "       '10469', '11208', '11207', '10451', '11235', '10314', '11209',\n",
       "       '11204', '10305', '11232', '10017', '11373', '11224', '11372',\n",
       "       '11412', '10004', '11203', '11374', '10466', '11106', '10304',\n",
       "       '11220', '11230', '11210', '10303', '11229', '10463', '11435',\n",
       "       '11416', '10080', '10005', '10454', '10455', '11236', '10280',\n",
       "       '10037', '11355', '11692', '11411', '10282', '10307', '11219',\n",
       "       '10467', '11358', '11361', '10069', '11415', '11356', '11214',\n",
       "       '11432', '10464', '11370', '10302', '11418', '11433', '11429',\n",
       "       '11422', '11378', '11421', '10312', '10460', '10471', '10462',\n",
       "       '10459', '11417', '10007', '11360', '11249\\n11249', '11109',\n",
       "       '11357', '10458', '11369', '11212', '11691', '11354', '11368',\n",
       "       '10306', '10456', '11413', '11365', '11436', '11414', '11694',\n",
       "       '11366', '10457', '10461', '10310', '11420', '10308', '11419',\n",
       "       '11103-3233', '10474', '10002-2289', '10465', '10472', '11001',\n",
       "       '11428', '11426', '11423', '11228', '10129', '11364', '11385-2308',\n",
       "       '11363', '10281', '91766', '11362', '10174', '11413-3220', '07093',\n",
       "       '10550', '11692-2304', '11559', 10128.0, 10002.0, 10018.0, 10023.0,\n",
       "       11206.0, 11225.0, 11249.0, 11212.0, 10003.0, 10024.0, 11207.0,\n",
       "       10462.0, 10014.0, 11219.0, 10033.0, 11226.0, 10028.0, 10025.0,\n",
       "       11374.0, 11104.0, 10026.0, 10013.0, 10452.0, 11210.0, 11378.0,\n",
       "       11417.0, 11102.0, 10031.0, 11232.0, 10001.0, 11435.0, 11222.0,\n",
       "       11373.0, 10012.0, 10009.0, 11221.0, 10019.0, 10030.0, 11231.0,\n",
       "       11205.0, 11224.0, 11211.0, 10035.0, 11201.0, 10029.0, 11691.0,\n",
       "       11233.0, 10027.0, 10032.0, 11105.0, 10465.0, 11432.0, 11215.0,\n",
       "       11238.0, 11216.0, 11220.0, 11237.0, 10017.0, 11434.0, 10036.0,\n",
       "       11375.0, 10458.0, 10075.0, 10022.0, 11385.0, 10454.0, 10016.0,\n",
       "       10005.0, 11377.0, 11103.0, 11230.0, 11229.0, 11203.0, 10021.0,\n",
       "       11367.0, 11213.0, 10040.0, 10463.0, 10011.0, 11218.0, 10466.0,\n",
       "       10065.0, 10468.0, 11217.0, 10034.0, 11236.0, 11101.0, 10010.0,\n",
       "       11693.0, 11421.0, 10301.0, 11356.0, 11418.0, 10464.0, 11369.0,\n",
       "       11379.0, 10472.0, 10451.0, 11372.0, 10004.0, 11422.0, 10037.0,\n",
       "       11209.0, 11208.0, 11235.0, 11692.0, 11358.0, 10270.0, 10467.0,\n",
       "       10309.0, 10302.0, 10304.0, 11106.0, 11204.0, 11412.0, 10038.0,\n",
       "       10310.0, 11234.0, 11355.0, 10006.0, 10305.0, 11429.0, 10473.0,\n",
       "       10044.0, 10469.0, 11368.0, 10453.0, 10457.0, 10280.0, 11433.0,\n",
       "       11354.0, 11694.0, 11223.0, 11370.0, 10456.0, 11423.0, 10039.0,\n",
       "       11365.0, 10459.0, 11411.0, 10461.0, 10314.0, 11214.0, 11419.0,\n",
       "       10455.0, 11228.0, 11436.0, 11413.0, 11361.0, 10475.0, 10282.0,\n",
       "       11363.0, 10281.0, 10306.0, 10303.0, 11428.0, 10007.0, 11426.0,\n",
       "       11366.0, 11416.0, 10312.0, 10069.0, 10460.0, 11364.0, 10474.0,\n",
       "       11357.0, 10162.0, 11420.0, 11415.0, 10470.0, 11414.0, 7302.0,\n",
       "       10471.0, 11362.0, 11427.0, 11109.0, 11360.0, 10308.0, 10704.0,\n",
       "       11003.0, 10307.0, 11001.0, 10020.0, 11021.0, 10705.0, 94085.0],\n",
       "      dtype=object)"
      ]
     },
     "execution_count": 12,
     "metadata": {},
     "output_type": "execute_result"
    }
   ],
   "source": [
    "# Checking if zipcode has inconsistency\n",
    "airbnb_subset['zipcode'].unique()"
   ]
  },
  {
   "cell_type": "markdown",
   "metadata": {
    "slideshow": {
     "slide_type": "fragment"
    }
   },
   "source": [
    "We see that zipcode feature has both integer and string datatype values in it. Also, some of the zipcodes are of length greater than 5 digits. For e.g. '11103-3233' is one of the zipcodes. \n",
    "This inconsistency will later lead to improper join of the datasets and has to be fixed. There is nothing wrong with these zipcodes and we just need to extract the first 5 digits from it. "
   ]
  },
  {
   "cell_type": "code",
   "execution_count": 13,
   "metadata": {
    "slideshow": {
     "slide_type": "subslide"
    }
   },
   "outputs": [
    {
     "name": "stderr",
     "output_type": "stream",
     "text": [
      "C:\\Users\\Madhusudan Rudresh\\Anaconda3\\lib\\site-packages\\pandas\\core\\generic.py:4405: SettingWithCopyWarning: \n",
      "A value is trying to be set on a copy of a slice from a DataFrame.\n",
      "Try using .loc[row_indexer,col_indexer] = value instead\n",
      "\n",
      "See the caveats in the documentation: http://pandas.pydata.org/pandas-docs/stable/indexing.html#indexing-view-versus-copy\n",
      "  self[name] = value\n",
      "C:\\Users\\Madhusudan Rudresh\\Anaconda3\\lib\\site-packages\\ipykernel_launcher.py:5: SettingWithCopyWarning: \n",
      "A value is trying to be set on a copy of a slice from a DataFrame.\n",
      "Try using .loc[row_indexer,col_indexer] = value instead\n",
      "\n",
      "See the caveats in the documentation: http://pandas.pydata.org/pandas-docs/stable/indexing.html#indexing-view-versus-copy\n",
      "  \"\"\"\n"
     ]
    }
   ],
   "source": [
    "# Converting all the zipcodes to string datatype.\n",
    "airbnb_subset.zipcode = airbnb_subset.zipcode.astype('str')\n",
    "\n",
    "# Extracting the first 5 digits of the zipcodes\n",
    "airbnb_subset['zipcode'] = airbnb_subset['zipcode'].str[:5]"
   ]
  },
  {
   "cell_type": "code",
   "execution_count": 14,
   "metadata": {},
   "outputs": [
    {
     "data": {
      "text/html": [
       "<div>\n",
       "<style scoped>\n",
       "    .dataframe tbody tr th:only-of-type {\n",
       "        vertical-align: middle;\n",
       "    }\n",
       "\n",
       "    .dataframe tbody tr th {\n",
       "        vertical-align: top;\n",
       "    }\n",
       "\n",
       "    .dataframe thead th {\n",
       "        text-align: right;\n",
       "    }\n",
       "</style>\n",
       "<table border=\"1\" class=\"dataframe\">\n",
       "  <thead>\n",
       "    <tr style=\"text-align: right;\">\n",
       "      <th></th>\n",
       "      <th>price</th>\n",
       "      <th>cleaning_fee</th>\n",
       "    </tr>\n",
       "  </thead>\n",
       "  <tbody>\n",
       "    <tr>\n",
       "      <th>0</th>\n",
       "      <td>$149.00</td>\n",
       "      <td>$25.00</td>\n",
       "    </tr>\n",
       "    <tr>\n",
       "      <th>1</th>\n",
       "      <td>$225.00</td>\n",
       "      <td>$100.00</td>\n",
       "    </tr>\n",
       "    <tr>\n",
       "      <th>2</th>\n",
       "      <td>$150.00</td>\n",
       "      <td>$75.00</td>\n",
       "    </tr>\n",
       "    <tr>\n",
       "      <th>3</th>\n",
       "      <td>$89.00</td>\n",
       "      <td>NaN</td>\n",
       "    </tr>\n",
       "    <tr>\n",
       "      <th>4</th>\n",
       "      <td>$80.00</td>\n",
       "      <td>$80.00</td>\n",
       "    </tr>\n",
       "  </tbody>\n",
       "</table>\n",
       "</div>"
      ],
      "text/plain": [
       "     price cleaning_fee\n",
       "0  $149.00       $25.00\n",
       "1  $225.00      $100.00\n",
       "2  $150.00       $75.00\n",
       "3   $89.00          NaN\n",
       "4   $80.00       $80.00"
      ]
     },
     "execution_count": 14,
     "metadata": {},
     "output_type": "execute_result"
    }
   ],
   "source": [
    "airbnb_subset[['price','cleaning_fee']].head(5)"
   ]
  },
  {
   "cell_type": "code",
   "execution_count": 15,
   "metadata": {
    "slideshow": {
     "slide_type": "subslide"
    }
   },
   "outputs": [
    {
     "name": "stderr",
     "output_type": "stream",
     "text": [
      "C:\\Users\\Madhusudan Rudresh\\Anaconda3\\lib\\site-packages\\ipykernel_launcher.py:3: SettingWithCopyWarning: \n",
      "A value is trying to be set on a copy of a slice from a DataFrame.\n",
      "Try using .loc[row_indexer,col_indexer] = value instead\n",
      "\n",
      "See the caveats in the documentation: http://pandas.pydata.org/pandas-docs/stable/indexing.html#indexing-view-versus-copy\n",
      "  This is separate from the ipykernel package so we can avoid doing imports until\n"
     ]
    }
   ],
   "source": [
    "# Removing the unwanted characters from the column and converting the datatype into float\n",
    "airbnb_subset.price = airbnb_subset.price.apply(lambda x: x.strip('$').replace(',',''))\n",
    "airbnb_subset['price'] = airbnb_subset['price'].astype(float)"
   ]
  },
  {
   "cell_type": "code",
   "execution_count": 16,
   "metadata": {
    "scrolled": true,
    "slideshow": {
     "slide_type": "subslide"
    }
   },
   "outputs": [
    {
     "name": "stderr",
     "output_type": "stream",
     "text": [
      "C:\\Users\\Madhusudan Rudresh\\Anaconda3\\lib\\site-packages\\ipykernel_launcher.py:2: SettingWithCopyWarning: \n",
      "A value is trying to be set on a copy of a slice from a DataFrame.\n",
      "Try using .loc[row_indexer,col_indexer] = value instead\n",
      "\n",
      "See the caveats in the documentation: http://pandas.pydata.org/pandas-docs/stable/indexing.html#indexing-view-versus-copy\n",
      "  \n",
      "C:\\Users\\Madhusudan Rudresh\\Anaconda3\\lib\\site-packages\\ipykernel_launcher.py:3: SettingWithCopyWarning: \n",
      "A value is trying to be set on a copy of a slice from a DataFrame.\n",
      "Try using .loc[row_indexer,col_indexer] = value instead\n",
      "\n",
      "See the caveats in the documentation: http://pandas.pydata.org/pandas-docs/stable/indexing.html#indexing-view-versus-copy\n",
      "  This is separate from the ipykernel package so we can avoid doing imports until\n"
     ]
    }
   ],
   "source": [
    "# Removing the unwanted characters from the column and converting the datatype into float\n",
    "airbnb_subset['cleaning_fee'] = airbnb_subset['cleaning_fee'].astype('str').apply(lambda x: x.strip('$').replace(',',''))\n",
    "airbnb_subset['cleaning_fee'] = airbnb_subset['cleaning_fee'].astype('float')"
   ]
  },
  {
   "cell_type": "code",
   "execution_count": 17,
   "metadata": {
    "slideshow": {
     "slide_type": "subslide"
    }
   },
   "outputs": [
    {
     "name": "stderr",
     "output_type": "stream",
     "text": [
      "C:\\Users\\Madhusudan Rudresh\\Anaconda3\\lib\\site-packages\\scipy\\stats\\stats.py:1713: FutureWarning: Using a non-tuple sequence for multidimensional indexing is deprecated; use `arr[tuple(seq)]` instead of `arr[seq]`. In the future this will be interpreted as an array index, `arr[np.array(seq)]`, which will result either in an error or a different result.\n",
      "  return np.add.reduce(sorted[indexer] * weights, axis=axis) / sumval\n"
     ]
    },
    {
     "data": {
      "text/plain": [
       "Text(0, 0.5, 'Density')"
      ]
     },
     "execution_count": 17,
     "metadata": {},
     "output_type": "execute_result"
    },
    {
     "data": {
      "image/png": "[encoded data removed]",
      "text/plain": [
       "<Figure size 432x288 with 1 Axes>"
      ]
     },
     "metadata": {
      "needs_background": "light"
     },
     "output_type": "display_data"
    }
   ],
   "source": [
    "# Checking for distribution of price\n",
    "ax = sns.distplot(airbnb_subset['price'], bins=10)\n",
    "ax.set_title('Distribution of Rental Price')\n",
    "ax.set_xlabel('Rental Price')\n",
    "ax.set_ylabel('Density')"
   ]
  },
  {
   "cell_type": "markdown",
   "metadata": {
    "slideshow": {
     "slide_type": "fragment"
    }
   },
   "source": [
    "The price column is highly skewed and this might be due to outliers present in the dataset."
   ]
  },
  {
   "cell_type": "code",
   "execution_count": 18,
   "metadata": {
    "slideshow": {
     "slide_type": "subslide"
    }
   },
   "outputs": [
    {
     "data": {
      "text/plain": [
       "Text(0, 0.5, 'Density')"
      ]
     },
     "execution_count": 18,
     "metadata": {},
     "output_type": "execute_result"
    },
    {
     "data": {
      "image/png": "[encoded data removed]",
      "text/plain": [
       "<Figure size 432x288 with 1 Axes>"
      ]
     },
     "metadata": {
      "needs_background": "light"
     },
     "output_type": "display_data"
    }
   ],
   "source": [
    "# Checking the price distribution for rental prices below $1000\n",
    "ax = sns.distplot(airbnb_subset[airbnb_subset['price'] < 1000]['price'], \n",
    "                  bins=7) \n",
    "ax.set_title('Distribution of Rental Price')\n",
    "ax.set_xlabel('Rental Price')\n",
    "ax.set_ylabel('Density')"
   ]
  },
  {
   "cell_type": "markdown",
   "metadata": {
    "slideshow": {
     "slide_type": "fragment"
    }
   },
   "source": [
    "The price distribution looks better than before, however, it is still skewed. "
   ]
  },
  {
   "cell_type": "code",
   "execution_count": 19,
   "metadata": {
    "slideshow": {
     "slide_type": "subslide"
    }
   },
   "outputs": [
    {
     "data": {
      "text/plain": [
       "(239, 13)"
      ]
     },
     "execution_count": 19,
     "metadata": {},
     "output_type": "execute_result"
    }
   ],
   "source": [
    "# Checking the dimensions of outliers present in the dataset\n",
    "airbnb_subset[airbnb_subset['price'] > 1000].shape"
   ]
  },
  {
   "cell_type": "markdown",
   "metadata": {
    "slideshow": {
     "slide_type": "fragment"
    }
   },
   "source": [
    "We see that there are lot of high outliers in the price column. Therefore, we are keeping limit for listing price of the house at `$1000` and removing the data that is above this limit (0.5% of the data)."
   ]
  },
  {
   "cell_type": "code",
   "execution_count": 20,
   "metadata": {
    "slideshow": {
     "slide_type": "subslide"
    }
   },
   "outputs": [],
   "source": [
    "# Removing the outliers which are above $1000 rental price\n",
    "airbnb_noout = airbnb_subset[airbnb_subset['price'] < 1000]"
   ]
  },
  {
   "cell_type": "code",
   "execution_count": 21,
   "metadata": {
    "slideshow": {
     "slide_type": "subslide"
    }
   },
   "outputs": [
    {
     "data": {
      "text/plain": [
       "(48597, 13)"
      ]
     },
     "execution_count": 21,
     "metadata": {},
     "output_type": "execute_result"
    }
   ],
   "source": [
    "# Checking the dimensions of airbnb_noout dataset\n",
    "airbnb_noout.shape"
   ]
  },
  {
   "cell_type": "code",
   "execution_count": 22,
   "metadata": {
    "slideshow": {
     "slide_type": "subslide"
    }
   },
   "outputs": [],
   "source": [
    "# Filtering the airbnb_set in which it contains bedroom = 2 \n",
    "airbnb_set = airbnb_noout[airbnb_noout['bedrooms'] == 2]"
   ]
  },
  {
   "cell_type": "code",
   "execution_count": 23,
   "metadata": {
    "slideshow": {
     "slide_type": "subslide"
    }
   },
   "outputs": [
    {
     "data": {
      "text/plain": [
       "(8946, 262)"
      ]
     },
     "execution_count": 23,
     "metadata": {},
     "output_type": "execute_result"
    }
   ],
   "source": [
    "# Checking the dimensions of the zillow dataset\n",
    "zillow.shape"
   ]
  },
  {
   "cell_type": "code",
   "execution_count": 24,
   "metadata": {
    "slideshow": {
     "slide_type": "subslide"
    }
   },
   "outputs": [
    {
     "name": "stdout",
     "output_type": "stream",
     "text": [
      "There are 4 categorical columns in the airbnb dataset\n",
      "There are 258 numerical columns in the airbnb dataset\n"
     ]
    }
   ],
   "source": [
    "# Checking for number of categorical and numerical features present in the dataset\n",
    "categorical = len(zillow.select_dtypes(include=['object']).columns.tolist())\n",
    "numerical = len(zillow.select_dtypes(include=['number']).columns.tolist())\n",
    "print(\"There are {} categorical columns in the airbnb dataset\".format(categorical))\n",
    "print(\"There are {} numerical columns in the airbnb dataset\".format(numerical))"
   ]
  },
  {
   "cell_type": "code",
   "execution_count": 25,
   "metadata": {},
   "outputs": [
    {
     "data": {
      "text/plain": [
       "RegionID        int64\n",
       "RegionName      int64\n",
       "City           object\n",
       "State          object\n",
       "Metro          object\n",
       "CountyName     object\n",
       "SizeRank        int64\n",
       "1996-04       float64\n",
       "1996-05       float64\n",
       "1996-06       float64\n",
       "dtype: object"
      ]
     },
     "execution_count": 25,
     "metadata": {},
     "output_type": "execute_result"
    }
   ],
   "source": [
    "zillow.dtypes.head(10)"
   ]
  },
  {
   "cell_type": "code",
   "execution_count": 26,
   "metadata": {
    "slideshow": {
     "slide_type": "subslide"
    }
   },
   "outputs": [],
   "source": [
    "# Converting the zipcode to string so that we can join the 2 datasets\n",
    "zillow['RegionName'] = zillow['RegionName'].astype('str')"
   ]
  },
  {
   "cell_type": "code",
   "execution_count": 27,
   "metadata": {
    "slideshow": {
     "slide_type": "subslide"
    }
   },
   "outputs": [
    {
     "name": "stderr",
     "output_type": "stream",
     "text": [
      "C:\\Users\\Madhusudan Rudresh\\Anaconda3\\lib\\site-packages\\pandas\\core\\frame.py:3781: SettingWithCopyWarning: \n",
      "A value is trying to be set on a copy of a slice from a DataFrame\n",
      "\n",
      "See the caveats in the documentation: http://pandas.pydata.org/pandas-docs/stable/indexing.html#indexing-view-versus-copy\n",
      "  return super(DataFrame, self).rename(**kwargs)\n"
     ]
    }
   ],
   "source": [
    "# Renaming the features of zillow datasets and assigning it to zillow_set\n",
    "zillow_set = zillow[['RegionName','2017-06']]\n",
    "zillow_set.rename(columns={'RegionName':'zipcode', '2017-06':'Median_price'}, inplace=True)"
   ]
  },
  {
   "cell_type": "code",
   "execution_count": 28,
   "metadata": {
    "slideshow": {
     "slide_type": "subslide"
    }
   },
   "outputs": [],
   "source": [
    "# Left joining the airbnb_set and zillow_set dataset\n",
    "airbnb_zillow_joined = airbnb_set.merge(zillow_set, on='zipcode', how='left')"
   ]
  },
  {
   "cell_type": "code",
   "execution_count": 29,
   "metadata": {
    "slideshow": {
     "slide_type": "subslide"
    }
   },
   "outputs": [
    {
     "data": {
      "text/plain": [
       "(6438, 14)"
      ]
     },
     "execution_count": 29,
     "metadata": {},
     "output_type": "execute_result"
    }
   ],
   "source": [
    "# Checking the dimensions of the airbnb_zillow_joined dataset\n",
    "airbnb_zillow_joined.shape"
   ]
  },
  {
   "cell_type": "code",
   "execution_count": 30,
   "metadata": {
    "slideshow": {
     "slide_type": "subslide"
    }
   },
   "outputs": [
    {
     "data": {
      "text/html": [
       "<div>\n",
       "<style scoped>\n",
       "    .dataframe tbody tr th:only-of-type {\n",
       "        vertical-align: middle;\n",
       "    }\n",
       "\n",
       "    .dataframe tbody tr th {\n",
       "        vertical-align: top;\n",
       "    }\n",
       "\n",
       "    .dataframe thead th {\n",
       "        text-align: right;\n",
       "    }\n",
       "</style>\n",
       "<table border=\"1\" class=\"dataframe\">\n",
       "  <thead>\n",
       "    <tr style=\"text-align: right;\">\n",
       "      <th></th>\n",
       "      <th>id</th>\n",
       "      <th>bedrooms</th>\n",
       "      <th>latitude</th>\n",
       "      <th>longitude</th>\n",
       "      <th>price</th>\n",
       "      <th>cleaning_fee</th>\n",
       "      <th>review_scores_rating</th>\n",
       "      <th>Median_price</th>\n",
       "    </tr>\n",
       "  </thead>\n",
       "  <tbody>\n",
       "    <tr>\n",
       "      <th>count</th>\n",
       "      <td>6438.00</td>\n",
       "      <td>6438.00</td>\n",
       "      <td>6438.00</td>\n",
       "      <td>6438.00</td>\n",
       "      <td>6438.00</td>\n",
       "      <td>5533.00</td>\n",
       "      <td>5090.00</td>\n",
       "      <td>1538.00</td>\n",
       "    </tr>\n",
       "    <tr>\n",
       "      <th>mean</th>\n",
       "      <td>19131698.97</td>\n",
       "      <td>2.00</td>\n",
       "      <td>40.72</td>\n",
       "      <td>-73.96</td>\n",
       "      <td>214.06</td>\n",
       "      <td>94.59</td>\n",
       "      <td>94.04</td>\n",
       "      <td>1782289.08</td>\n",
       "    </tr>\n",
       "    <tr>\n",
       "      <th>std</th>\n",
       "      <td>11409494.54</td>\n",
       "      <td>0.00</td>\n",
       "      <td>0.05</td>\n",
       "      <td>0.04</td>\n",
       "      <td>127.82</td>\n",
       "      <td>55.06</td>\n",
       "      <td>8.50</td>\n",
       "      <td>646988.56</td>\n",
       "    </tr>\n",
       "    <tr>\n",
       "      <th>min</th>\n",
       "      <td>7750.00</td>\n",
       "      <td>2.00</td>\n",
       "      <td>40.51</td>\n",
       "      <td>-74.24</td>\n",
       "      <td>0.00</td>\n",
       "      <td>0.00</td>\n",
       "      <td>20.00</td>\n",
       "      <td>327700.00</td>\n",
       "    </tr>\n",
       "    <tr>\n",
       "      <th>25%</th>\n",
       "      <td>8956109.75</td>\n",
       "      <td>2.00</td>\n",
       "      <td>40.69</td>\n",
       "      <td>-73.99</td>\n",
       "      <td>129.00</td>\n",
       "      <td>60.00</td>\n",
       "      <td>92.00</td>\n",
       "      <td>1302300.00</td>\n",
       "    </tr>\n",
       "    <tr>\n",
       "      <th>50%</th>\n",
       "      <td>19950438.00</td>\n",
       "      <td>2.00</td>\n",
       "      <td>40.72</td>\n",
       "      <td>-73.96</td>\n",
       "      <td>185.00</td>\n",
       "      <td>95.00</td>\n",
       "      <td>96.00</td>\n",
       "      <td>1712900.00</td>\n",
       "    </tr>\n",
       "    <tr>\n",
       "      <th>75%</th>\n",
       "      <td>29937912.50</td>\n",
       "      <td>2.00</td>\n",
       "      <td>40.76</td>\n",
       "      <td>-73.94</td>\n",
       "      <td>259.00</td>\n",
       "      <td>120.00</td>\n",
       "      <td>100.00</td>\n",
       "      <td>2147000.00</td>\n",
       "    </tr>\n",
       "    <tr>\n",
       "      <th>max</th>\n",
       "      <td>36477307.00</td>\n",
       "      <td>2.00</td>\n",
       "      <td>40.91</td>\n",
       "      <td>-73.72</td>\n",
       "      <td>999.00</td>\n",
       "      <td>621.00</td>\n",
       "      <td>100.00</td>\n",
       "      <td>3316500.00</td>\n",
       "    </tr>\n",
       "  </tbody>\n",
       "</table>\n",
       "</div>"
      ],
      "text/plain": [
       "               id  bedrooms  latitude  longitude   price  cleaning_fee  \\\n",
       "count     6438.00   6438.00   6438.00    6438.00 6438.00       5533.00   \n",
       "mean  19131698.97      2.00     40.72     -73.96  214.06         94.59   \n",
       "std   11409494.54      0.00      0.05       0.04  127.82         55.06   \n",
       "min       7750.00      2.00     40.51     -74.24    0.00          0.00   \n",
       "25%    8956109.75      2.00     40.69     -73.99  129.00         60.00   \n",
       "50%   19950438.00      2.00     40.72     -73.96  185.00         95.00   \n",
       "75%   29937912.50      2.00     40.76     -73.94  259.00        120.00   \n",
       "max   36477307.00      2.00     40.91     -73.72  999.00        621.00   \n",
       "\n",
       "       review_scores_rating  Median_price  \n",
       "count               5090.00       1538.00  \n",
       "mean                  94.04    1782289.08  \n",
       "std                    8.50     646988.56  \n",
       "min                   20.00     327700.00  \n",
       "25%                   92.00    1302300.00  \n",
       "50%                   96.00    1712900.00  \n",
       "75%                  100.00    2147000.00  \n",
       "max                  100.00    3316500.00  "
      ]
     },
     "execution_count": 30,
     "metadata": {},
     "output_type": "execute_result"
    }
   ],
   "source": [
    "# Merged the datasets for further analysis\n",
    "pd.set_option('display.float_format', lambda x: '%.2f' % x)\n",
    "airbnb_zillow_joined.describe()"
   ]
  },
  {
   "cell_type": "markdown",
   "metadata": {
    "slideshow": {
     "slide_type": "subslide"
    }
   },
   "source": [
    "We can see that only 1538 values of Median_price are present out of 6438 values in this dataset. That means only 1/4th of the data is present for Median price. The following things could be done to tackle this problem:\n",
    "1. Linear Regression - This could be done by training the data on 1/4th of the data and finding the values for the remaining records. However, this would result in very high error as the training dataset is very limited and the testing dataset is 4 times the size.\n",
    "2. KNN Imputation - This could also be an option as we can assign the median price of the neighboring locality using the geo coordinates. However, this could also result in high errors as there are some areas where we dont have data at all. For example, there are no median price readings for the houses in Bronx neighborhood. \n",
    "3. Inner join - Instead of left joining the airbnb_set and zillow_set dataset, we can use inner join. Though the dataset will be reduced to 1/4th of it, but there will be no erroneous calculation made."
   ]
  },
  {
   "cell_type": "code",
   "execution_count": 31,
   "metadata": {
    "slideshow": {
     "slide_type": "subslide"
    }
   },
   "outputs": [],
   "source": [
    "# Selecting the third approach, we will be doing inner join\n",
    "airbnb_zillow_joined = airbnb_set.merge(zillow_set, on='zipcode', how='inner')"
   ]
  },
  {
   "cell_type": "code",
   "execution_count": 32,
   "metadata": {
    "slideshow": {
     "slide_type": "subslide"
    }
   },
   "outputs": [
    {
     "data": {
      "text/plain": [
       "review_scores_rating            371\n",
       "cleaning_fee                    198\n",
       "state                             1\n",
       "Median_price                      0\n",
       "price                             0\n",
       "longitude                         0\n",
       "latitude                          0\n",
       "bed_type                          0\n",
       "bedrooms                          0\n",
       "room_type                         0\n",
       "property_type                     0\n",
       "zipcode                           0\n",
       "neighbourhood_group_cleansed      0\n",
       "id                                0\n",
       "dtype: int64"
      ]
     },
     "execution_count": 32,
     "metadata": {},
     "output_type": "execute_result"
    }
   ],
   "source": [
    "# Checking for null values\n",
    "airbnb_zillow_joined.isna().sum().sort_values(ascending=False)"
   ]
  },
  {
   "cell_type": "code",
   "execution_count": 33,
   "metadata": {
    "slideshow": {
     "slide_type": "subslide"
    }
   },
   "outputs": [],
   "source": [
    "# Imputing cleaning fees by taking mean cleaning fee for every zipcode and substituting them in the missing field belonging\n",
    "# to the respective zipcode \n",
    "airbnb_zillow_joined['cleaning_fee'].fillna(airbnb_zillow_joined.groupby('zipcode')['cleaning_fee'].transform(\"mean\"), \n",
    "                                            inplace=True)"
   ]
  },
  {
   "cell_type": "code",
   "execution_count": 34,
   "metadata": {
    "slideshow": {
     "slide_type": "subslide"
    }
   },
   "outputs": [
    {
     "data": {
      "text/plain": [
       "zipcode\n",
       "10003    1\n",
       "10011    1\n",
       "10013    2\n",
       "10014    1\n",
       "10021    1\n",
       "10022    1\n",
       "10023    1\n",
       "10025    1\n",
       "10028    1\n",
       "10036    1\n",
       "10128    1\n",
       "10303    1\n",
       "10304    1\n",
       "10305    1\n",
       "10306    1\n",
       "10308    1\n",
       "10309    1\n",
       "10314    1\n",
       "11003    1\n",
       "11201    1\n",
       "11215    1\n",
       "11217    1\n",
       "11231    1\n",
       "11234    1\n",
       "11434    1\n",
       "Name: neighbourhood_group_cleansed, dtype: int64"
      ]
     },
     "execution_count": 34,
     "metadata": {},
     "output_type": "execute_result"
    }
   ],
   "source": [
    "# Checking for discrepancy between zipcode and neighborhood\n",
    "airbnb_zillow_joined[['zipcode',\n",
    "                      'neighbourhood_group_cleansed']].groupby(by='zipcode')['neighbourhood_group_cleansed'].nunique()"
   ]
  },
  {
   "cell_type": "code",
   "execution_count": 35,
   "metadata": {
    "slideshow": {
     "slide_type": "subslide"
    }
   },
   "outputs": [
    {
     "data": {
      "text/plain": [
       "neighbourhood_group_cleansed\n",
       "Brooklyn      1\n",
       "Manhattan    96\n",
       "Name: id, dtype: int64"
      ]
     },
     "execution_count": 35,
     "metadata": {},
     "output_type": "execute_result"
    }
   ],
   "source": [
    "# Checking for the distinct neighborhood present in the zipcode of '10013'\n",
    "airbnb_zillow_joined[(airbnb_zillow_joined['zipcode']=='10013')].groupby(by='neighbourhood_group_cleansed').nunique()['id']"
   ]
  },
  {
   "cell_type": "markdown",
   "metadata": {
    "slideshow": {
     "slide_type": "fragment"
    }
   },
   "source": [
    "We can see above that zipcode '10013' comes in two neighborhoods. On further research, I came to know that this zipcode comes under Manhattan which is also justified by the number of neighborhoods present in Manhattan compared to Brooklyn. Therefore, I will be replacing the neighborhood for that particular zipcode from Brooklyn to Manhattan."
   ]
  },
  {
   "cell_type": "code",
   "execution_count": 36,
   "metadata": {
    "slideshow": {
     "slide_type": "subslide"
    }
   },
   "outputs": [
    {
     "data": {
      "text/html": [
       "<div>\n",
       "<style scoped>\n",
       "    .dataframe tbody tr th:only-of-type {\n",
       "        vertical-align: middle;\n",
       "    }\n",
       "\n",
       "    .dataframe tbody tr th {\n",
       "        vertical-align: top;\n",
       "    }\n",
       "\n",
       "    .dataframe thead th {\n",
       "        text-align: right;\n",
       "    }\n",
       "</style>\n",
       "<table border=\"1\" class=\"dataframe\">\n",
       "  <thead>\n",
       "    <tr style=\"text-align: right;\">\n",
       "      <th></th>\n",
       "      <th>id</th>\n",
       "      <th>neighbourhood_group_cleansed</th>\n",
       "      <th>state</th>\n",
       "      <th>zipcode</th>\n",
       "      <th>property_type</th>\n",
       "      <th>room_type</th>\n",
       "      <th>bedrooms</th>\n",
       "      <th>bed_type</th>\n",
       "      <th>latitude</th>\n",
       "      <th>longitude</th>\n",
       "      <th>price</th>\n",
       "      <th>cleaning_fee</th>\n",
       "      <th>review_scores_rating</th>\n",
       "      <th>Median_price</th>\n",
       "    </tr>\n",
       "  </thead>\n",
       "  <tbody>\n",
       "    <tr>\n",
       "      <th>617</th>\n",
       "      <td>22216259</td>\n",
       "      <td>Brooklyn</td>\n",
       "      <td>NY</td>\n",
       "      <td>10013</td>\n",
       "      <td>Apartment</td>\n",
       "      <td>Private room</td>\n",
       "      <td>2.00</td>\n",
       "      <td>Real Bed</td>\n",
       "      <td>40.62</td>\n",
       "      <td>-73.90</td>\n",
       "      <td>100.00</td>\n",
       "      <td>30.00</td>\n",
       "      <td>nan</td>\n",
       "      <td>3316500</td>\n",
       "    </tr>\n",
       "  </tbody>\n",
       "</table>\n",
       "</div>"
      ],
      "text/plain": [
       "           id neighbourhood_group_cleansed state zipcode property_type  \\\n",
       "617  22216259                     Brooklyn    NY   10013     Apartment   \n",
       "\n",
       "        room_type  bedrooms  bed_type  latitude  longitude  price  \\\n",
       "617  Private room      2.00  Real Bed     40.62     -73.90 100.00   \n",
       "\n",
       "     cleaning_fee  review_scores_rating  Median_price  \n",
       "617         30.00                   nan       3316500  "
      ]
     },
     "execution_count": 36,
     "metadata": {},
     "output_type": "execute_result"
    }
   ],
   "source": [
    "airbnb_zillow_joined[(airbnb_zillow_joined['zipcode']=='10013') & \n",
    "                    (airbnb_zillow_joined['neighbourhood_group_cleansed'] == 'Brooklyn')]"
   ]
  },
  {
   "cell_type": "code",
   "execution_count": 37,
   "metadata": {
    "slideshow": {
     "slide_type": "subslide"
    }
   },
   "outputs": [],
   "source": [
    "# Replacing the value of the neighborhood from 'Brooklyn' to 'Manhattan' as per research \n",
    "airbnb_zillow_joined.iloc[617,airbnb_zillow_joined.columns.get_loc('neighbourhood_group_cleansed')] = 'Manhattan'"
   ]
  },
  {
   "cell_type": "code",
   "execution_count": 38,
   "metadata": {
    "slideshow": {
     "slide_type": "subslide"
    }
   },
   "outputs": [
    {
     "data": {
      "text/plain": [
       "review_scores_rating            371\n",
       "state                             1\n",
       "Median_price                      0\n",
       "cleaning_fee                      0\n",
       "price                             0\n",
       "longitude                         0\n",
       "latitude                          0\n",
       "bed_type                          0\n",
       "bedrooms                          0\n",
       "room_type                         0\n",
       "property_type                     0\n",
       "zipcode                           0\n",
       "neighbourhood_group_cleansed      0\n",
       "id                                0\n",
       "dtype: int64"
      ]
     },
     "execution_count": 38,
     "metadata": {},
     "output_type": "execute_result"
    }
   ],
   "source": [
    "# Checking for missing values in the dataset\n",
    "airbnb_zillow_joined.isna().sum().sort_values(ascending=False)"
   ]
  },
  {
   "cell_type": "code",
   "execution_count": 39,
   "metadata": {
    "slideshow": {
     "slide_type": "subslide"
    }
   },
   "outputs": [],
   "source": [
    "# Dropping irrelevant columns \n",
    "airbnb_zillow_joined.drop(['bedrooms','state','review_scores_rating'],axis=1,inplace=True)"
   ]
  },
  {
   "cell_type": "markdown",
   "metadata": {
    "slideshow": {
     "slide_type": "slide"
    }
   },
   "source": [
    "## Exploratory Data Analysis"
   ]
  },
  {
   "cell_type": "code",
   "execution_count": 40,
   "metadata": {
    "slideshow": {
     "slide_type": "subslide"
    }
   },
   "outputs": [
    {
     "data": {
      "text/plain": [
       "Text(0, 0.5, 'Number of properties')"
      ]
     },
     "execution_count": 40,
     "metadata": {},
     "output_type": "execute_result"
    },
    {
     "data": {
      "image/png": "[encoded data removed]",
      "text/plain": [
       "<Figure size 576x432 with 1 Axes>"
      ]
     },
     "metadata": {
      "needs_background": "light"
     },
     "output_type": "display_data"
    }
   ],
   "source": [
    "# Plotting the countplot of properties present in the neighborhood\n",
    "plt.figure(figsize=(8,6))\n",
    "ax = sns.countplot(x = 'neighbourhood_group_cleansed',data = airbnb_zillow_joined)\n",
    "ax.set_title('Count of properties in the neighborhood')\n",
    "ax.set_xlabel('Neighborhood')\n",
    "ax.set_ylabel('Number of properties')"
   ]
  },
  {
   "cell_type": "markdown",
   "metadata": {
    "slideshow": {
     "slide_type": "fragment"
    }
   },
   "source": [
    "Manhattan has the highest number of properties, followed by Brooklyn, Staten Island and Queens in the end."
   ]
  },
  {
   "cell_type": "code",
   "execution_count": 41,
   "metadata": {
    "slideshow": {
     "slide_type": "subslide"
    }
   },
   "outputs": [
    {
     "data": {
      "text/plain": [
       "Text(0, 0.5, 'Rental price per night')"
      ]
     },
     "execution_count": 41,
     "metadata": {},
     "output_type": "execute_result"
    },
    {
     "data": {
      "image/png": "[encoded data removed]",
      "text/plain": [
       "<Figure size 576x432 with 1 Axes>"
      ]
     },
     "metadata": {
      "needs_background": "light"
     },
     "output_type": "display_data"
    }
   ],
   "source": [
    "# Plotting the boxplot of price vs neighborhood\n",
    "plt.figure(figsize=(8,6))\n",
    "ax = sns.boxplot(x = 'neighbourhood_group_cleansed', y = 'price', data = airbnb_zillow_joined)\n",
    "ax.set_title('Box plot of variation of prices in the neighborhood')\n",
    "ax.set_xlabel('Neighborhood')\n",
    "ax.set_ylabel('Rental price per night')"
   ]
  },
  {
   "cell_type": "markdown",
   "metadata": {
    "slideshow": {
     "slide_type": "fragment"
    }
   },
   "source": [
    "Manhattan has the higher median rental price, followed by Brooklyn, Queens and Staten Island. The interquartile range is also greatest for Manhattan, indicating that there is a lot of variation in the rental prices of properties located in Manhattan. Staten Island on the other end, has the least interquartile range, indicating less variation in the rental prices of properties."
   ]
  },
  {
   "cell_type": "code",
   "execution_count": 42,
   "metadata": {
    "slideshow": {
     "slide_type": "subslide"
    }
   },
   "outputs": [
    {
     "data": {
      "text/plain": [
       "Text(0, 0.5, 'Density')"
      ]
     },
     "execution_count": 42,
     "metadata": {},
     "output_type": "execute_result"
    },
    {
     "data": {
      "image/png": "[encoded data removed]",
      "text/plain": [
       "<Figure size 576x432 with 1 Axes>"
      ]
     },
     "metadata": {
      "needs_background": "light"
     },
     "output_type": "display_data"
    }
   ],
   "source": [
    "# Checking the price distribution \n",
    "plt.figure(figsize=(8,6))\n",
    "ax= sns.kdeplot(airbnb_zillow_joined['price'])\n",
    "ax.set_title(' Rental Price distribution')\n",
    "ax.set_xlabel('Rental Price')\n",
    "ax.set_ylabel('Density')"
   ]
  },
  {
   "cell_type": "markdown",
   "metadata": {
    "slideshow": {
     "slide_type": "fragment"
    }
   },
   "source": [
    "The Rental price distribution is slightly right skewed."
   ]
  },
  {
   "cell_type": "code",
   "execution_count": 43,
   "metadata": {
    "slideshow": {
     "slide_type": "subslide"
    }
   },
   "outputs": [],
   "source": [
    "# Calculating mean rental prices for every property type\n",
    "property_price = airbnb_zillow_joined.groupby(by='property_type', \n",
    "                                              as_index=False)['price'].mean().sort_values(by='price', ascending=False)"
   ]
  },
  {
   "cell_type": "code",
   "execution_count": 44,
   "metadata": {
    "slideshow": {
     "slide_type": "subslide"
    }
   },
   "outputs": [
    {
     "data": {
      "text/plain": [
       "(array([ 0,  1,  2,  3,  4,  5,  6,  7,  8,  9, 10, 11, 12]),\n",
       " <a list of 13 Text xticklabel objects>)"
      ]
     },
     "execution_count": 44,
     "metadata": {},
     "output_type": "execute_result"
    },
    {
     "data": {
      "image/png": "[encoded data removed]",
      "text/plain": [
       "<Figure size 576x432 with 1 Axes>"
      ]
     },
     "metadata": {
      "needs_background": "light"
     },
     "output_type": "display_data"
    }
   ],
   "source": [
    "# Plotting the bar graph of price vs property_type\n",
    "plt.figure(figsize = (8,6))\n",
    "ax = sns.barplot(x = 'property_type', y = 'price', data = property_price)\n",
    "ax.set_title('Bar plot of Mean rental price vs Property type')\n",
    "ax.set_xlabel('Property type')\n",
    "ax.set_ylabel('Mean rental price per night')\n",
    "plt.xticks(rotation=90)"
   ]
  },
  {
   "cell_type": "markdown",
   "metadata": {
    "slideshow": {
     "slide_type": "fragment"
    }
   },
   "source": [
    "Serviced Apartment, Loft and Condominium are top 3 property types with highest mean rental prices per night. While, Bungalow has the least mean rental price per night."
   ]
  },
  {
   "cell_type": "code",
   "execution_count": 45,
   "metadata": {
    "slideshow": {
     "slide_type": "subslide"
    }
   },
   "outputs": [
    {
     "data": {
      "text/plain": [
       "Text(3.8000000000000043, 0.5, 'Cleaning fees per stay')"
      ]
     },
     "execution_count": 45,
     "metadata": {},
     "output_type": "execute_result"
    },
    {
     "data": {
      "text/plain": [
       "<Figure size 720x432 with 0 Axes>"
      ]
     },
     "metadata": {},
     "output_type": "display_data"
    },
    {
     "data": {
      "image/png": "[encoded data removed]",
      "text/plain": [
       "<Figure size 648x432 with 1 Axes>"
      ]
     },
     "metadata": {
      "needs_background": "light"
     },
     "output_type": "display_data"
    }
   ],
   "source": [
    "# Checking the relationship between price and cleaning fee\n",
    "plt.figure(figsize=(10,6))\n",
    "sns.lmplot(x='price', y='cleaning_fee', data=airbnb_zillow_joined, height=6, aspect=1.5)\n",
    "plt.title('Scatter plot of cleaning fees vs rental price')\n",
    "plt.xlabel('Rental price')\n",
    "plt.ylabel('Cleaning fees per stay')"
   ]
  },
  {
   "cell_type": "markdown",
   "metadata": {
    "slideshow": {
     "slide_type": "fragment"
    }
   },
   "source": [
    "There is a positive correlation between price and cleaning_fee. This means that as price increases, the cleaning fees also increases"
   ]
  },
  {
   "cell_type": "markdown",
   "metadata": {
    "slideshow": {
     "slide_type": "slide"
    }
   },
   "source": [
    "## Approaches to find profitable properties\n",
    "\n",
    "\n",
    "### Approach 1: Selection of top zipcodes based on Breakeven period Analysis\n",
    "\n",
    "To differentiate the zipcodes that would be profitable to invest in, we need to do breakeven period analysis. Through this, we will basically be calculating the amount of time that would be required to earn back the amount of money we invested in. \n",
    "\n",
    "\\begin{equation*}\n",
    "{Breakeven Time (years)} = \\frac{Investment}{Annual Revenue} \n",
    "\\end{equation*}\n",
    "\n",
    "- Investment will be the amount of money invested to buy the house. We will be using Median price of the 2 Bedroom houses of the respective zipcode in the formula.\n",
    "- Earnings will be the from rent and cleaning fees. We are assuming the occupancy rate to be 75% here. Also, the cleaning fees is included taking into consideration that the owner will be charging extra and not all of it will be going towards cleaning of the apartment. We are taking into consideration that 25% of cleaning fees will be accounted in earnings.\n",
    "\n",
    "Note: In actual scenario, the expenses should have been deducted from the Annual Revenue. However, the expenses data is not available in the data so we are assuming that there will be no operational expenses incured"
   ]
  },
  {
   "cell_type": "code",
   "execution_count": 46,
   "metadata": {
    "slideshow": {
     "slide_type": "subslide"
    }
   },
   "outputs": [],
   "source": [
    "# Creating a new variable called Annual revenue which is the money generated from the apartment in a year\n",
    "airbnb_zillow_joined['Annual_Revenue'] = (airbnb_zillow_joined['price']*\n",
    "                                          365*0.75) + (airbnb_zillow_joined['cleaning_fee']*365*0.75*0.25)"
   ]
  },
  {
   "cell_type": "code",
   "execution_count": 47,
   "metadata": {
    "slideshow": {
     "slide_type": "subslide"
    }
   },
   "outputs": [
    {
     "name": "stderr",
     "output_type": "stream",
     "text": [
      "C:\\Users\\Madhusudan Rudresh\\Anaconda3\\lib\\site-packages\\numpy\\core\\_methods.py:140: RuntimeWarning: Degrees of freedom <= 0 for slice\n",
      "  keepdims=keepdims)\n",
      "C:\\Users\\Madhusudan Rudresh\\Anaconda3\\lib\\site-packages\\numpy\\core\\_methods.py:132: RuntimeWarning: invalid value encountered in double_scalars\n",
      "  ret = ret.dtype.type(ret / rcount)\n",
      "C:\\Users\\Madhusudan Rudresh\\Anaconda3\\lib\\site-packages\\statsmodels\\nonparametric\\bandwidths.py:20: RuntimeWarning: invalid value encountered in minimum\n",
      "  return np.minimum(np.std(X, axis=0, ddof=1), IQR)\n",
      "C:\\Users\\Madhusudan Rudresh\\Anaconda3\\lib\\site-packages\\numpy\\core\\fromnumeric.py:83: RuntimeWarning: invalid value encountered in reduce\n",
      "  return ufunc.reduce(obj, axis, dtype, out, **passkwargs)\n"
     ]
    },
    {
     "data": {
      "image/png": "[encoded data removed]",
      "text/plain": [
       "<Figure size 1440x1080 with 25 Axes>"
      ]
     },
     "metadata": {
      "needs_background": "light"
     },
     "output_type": "display_data"
    }
   ],
   "source": [
    "# Checking if the Annual_Revenue of all the zipcodes follows the normal distribution\n",
    "f, axes = plt.subplots(5, 5, figsize=(20,15))\n",
    "\n",
    "a = airbnb_zillow_joined['zipcode'].unique().tolist()\n",
    "b=0\n",
    "\n",
    "# Plotting the graph for every zipcode if the price follows the normal distribution\n",
    "for i in range(0,5):\n",
    "    for j in range(0,5):\n",
    "        sns.distplot(np.log(airbnb_zillow_joined[airbnb_zillow_joined['zipcode']==a[b]]['Annual_Revenue']),\n",
    "                     bins=5, ax=axes[i][j], axlabel=a[b])    \n",
    "        \n",
    "        b=b+1\n",
    "plt.tight_layout()"
   ]
  },
  {
   "cell_type": "markdown",
   "metadata": {
    "slideshow": {
     "slide_type": "subslide"
    }
   },
   "source": [
    "Annual Revenue follows a normal distribution for most of the zipcodes. This means that if we decide to use any machine learning algorithm using this data at a later stage, then the errors will be minimal."
   ]
  },
  {
   "cell_type": "code",
   "execution_count": 48,
   "metadata": {
    "slideshow": {
     "slide_type": "subslide"
    }
   },
   "outputs": [],
   "source": [
    "# Creating a new variable called breakeven_period which is the period of time it will take to start earning profits\n",
    "airbnb_zillow_joined['Breakeven_period'] = airbnb_zillow_joined['Median_price']/airbnb_zillow_joined['Annual_Revenue']"
   ]
  },
  {
   "cell_type": "code",
   "execution_count": 49,
   "metadata": {
    "slideshow": {
     "slide_type": "subslide"
    }
   },
   "outputs": [
    {
     "data": {
      "text/html": [
       "<div>\n",
       "<style scoped>\n",
       "    .dataframe tbody tr th:only-of-type {\n",
       "        vertical-align: middle;\n",
       "    }\n",
       "\n",
       "    .dataframe tbody tr th {\n",
       "        vertical-align: top;\n",
       "    }\n",
       "\n",
       "    .dataframe thead th {\n",
       "        text-align: right;\n",
       "    }\n",
       "</style>\n",
       "<table border=\"1\" class=\"dataframe\">\n",
       "  <thead>\n",
       "    <tr style=\"text-align: right;\">\n",
       "      <th></th>\n",
       "      <th>zipcode</th>\n",
       "      <th>neighbourhood_group_cleansed</th>\n",
       "      <th>Breakeven_period</th>\n",
       "    </tr>\n",
       "  </thead>\n",
       "  <tbody>\n",
       "    <tr>\n",
       "      <th>0</th>\n",
       "      <td>11003</td>\n",
       "      <td>Queens</td>\n",
       "      <td>6.82</td>\n",
       "    </tr>\n",
       "    <tr>\n",
       "      <th>1</th>\n",
       "      <td>10306</td>\n",
       "      <td>Staten Island</td>\n",
       "      <td>9.19</td>\n",
       "    </tr>\n",
       "    <tr>\n",
       "      <th>2</th>\n",
       "      <td>10303</td>\n",
       "      <td>Staten Island</td>\n",
       "      <td>10.85</td>\n",
       "    </tr>\n",
       "    <tr>\n",
       "      <th>3</th>\n",
       "      <td>11434</td>\n",
       "      <td>Queens</td>\n",
       "      <td>11.25</td>\n",
       "    </tr>\n",
       "    <tr>\n",
       "      <th>4</th>\n",
       "      <td>10304</td>\n",
       "      <td>Staten Island</td>\n",
       "      <td>11.35</td>\n",
       "    </tr>\n",
       "  </tbody>\n",
       "</table>\n",
       "</div>"
      ],
      "text/plain": [
       "  zipcode neighbourhood_group_cleansed  Breakeven_period\n",
       "0   11003                       Queens              6.82\n",
       "1   10306                Staten Island              9.19\n",
       "2   10303                Staten Island             10.85\n",
       "3   11434                       Queens             11.25\n",
       "4   10304                Staten Island             11.35"
      ]
     },
     "execution_count": 49,
     "metadata": {},
     "output_type": "execute_result"
    }
   ],
   "source": [
    "# Most profitable zipcodes based on breakeven period\n",
    "profit_zipcodes = airbnb_zillow_joined.groupby(by=['zipcode','neighbourhood_group_cleansed'], \n",
    "                                               as_index=False)['Breakeven_period'].mean().sort_values('Breakeven_period')\n",
    "profit_zipcodes.reset_index(drop=True).head()"
   ]
  },
  {
   "cell_type": "code",
   "execution_count": 50,
   "metadata": {
    "slideshow": {
     "slide_type": "subslide"
    }
   },
   "outputs": [],
   "source": [
    "# Saving the dataset to continue an analysis on Tableau\n",
    "airbnb_zillow_joined.to_csv('breakeven_analysis.csv')"
   ]
  },
  {
   "cell_type": "code",
   "execution_count": 51,
   "metadata": {
    "slideshow": {
     "slide_type": "subslide"
    }
   },
   "outputs": [
    {
     "data": {
      "image/png": "[encoded data removed]",
      "text/plain": [
       "<Figure size 720x432 with 1 Axes>"
      ]
     },
     "metadata": {
      "needs_background": "light"
     },
     "output_type": "display_data"
    }
   ],
   "source": [
    "# Plotting the breakeven analysis graph \n",
    "plt.figure(figsize = (10,6))\n",
    "\n",
    "ax = sns.barplot(x='zipcode', y='Breakeven_period', data=profit_zipcodes, order=profit_zipcodes['zipcode'])\n",
    "plt.xticks(rotation=90)\n",
    "ax.set_title('Mean Breakeven time in every zipcode')\n",
    "ax.set_xlabel('Zipcodes')\n",
    "ax.set_ylabel('Breakeven time in years')\n",
    "plt.xticks(rotation=90)\n",
    "plt.tight_layout()"
   ]
  },
  {
   "cell_type": "markdown",
   "metadata": {
    "slideshow": {
     "slide_type": "subslide"
    }
   },
   "source": [
    "From the above graph, we can see that zipcodes which will be profitable to invest in from the standpoint of reaching breakeven faster are 11003, 10306, 10303, 11434 and 10304"
   ]
  },
  {
   "cell_type": "markdown",
   "metadata": {
    "slideshow": {
     "slide_type": "subslide"
    }
   },
   "source": [
    "Attached below is the snapshot of breakeven analysis done on Tableau. The size of the bubble indicates the median price of the houses in the respective zipcodes. The color of the bubble indicates how fast it would take to approximately breakeven. Green indicates a faster breakeven while red indicates that it would take longer to breakeven.  "
   ]
  },
  {
   "cell_type": "markdown",
   "metadata": {
    "slideshow": {
     "slide_type": "subslide"
    }
   },
   "source": [
    "![alt text](breakeven_new.jpg \"Breakeven\")"
   ]
  },
  {
   "cell_type": "markdown",
   "metadata": {
    "slideshow": {
     "slide_type": "fragment"
    }
   },
   "source": [
    "We can see that most of the properties in Staten Island have dark green bubbles indicating that properties in this neighborhood reach breakeven faster, followed by Queens and Brooklyn."
   ]
  },
  {
   "cell_type": "code",
   "execution_count": 52,
   "metadata": {
    "slideshow": {
     "slide_type": "subslide"
    }
   },
   "outputs": [],
   "source": [
    "# Creating a mean_price dataframe which has mean prices of all the properties located in the particular zipcode\n",
    "mean_price = airbnb_zillow_joined.groupby(by='zipcode',as_index=False)['price'].mean()"
   ]
  },
  {
   "cell_type": "code",
   "execution_count": 53,
   "metadata": {
    "slideshow": {
     "slide_type": "subslide"
    }
   },
   "outputs": [],
   "source": [
    "# Joining the profit_zipcodes data with mean_price data\n",
    "breakeven_meanprice = profit_zipcodes.merge(mean_price, on='zipcode', how='left')"
   ]
  },
  {
   "cell_type": "code",
   "execution_count": 54,
   "metadata": {
    "slideshow": {
     "slide_type": "subslide"
    }
   },
   "outputs": [
    {
     "data": {
      "text/plain": [
       "Text(0, 0.5, 'Mean Rental price')"
      ]
     },
     "execution_count": 54,
     "metadata": {},
     "output_type": "execute_result"
    },
    {
     "data": {
      "image/png": "[encoded data removed]",
      "text/plain": [
       "<Figure size 720x432 with 1 Axes>"
      ]
     },
     "metadata": {
      "needs_background": "light"
     },
     "output_type": "display_data"
    }
   ],
   "source": [
    "# Creating a scatterplot between breakeven period and mean rent price of the zipcode in the new york city \n",
    "plt.figure(figsize = (10,6))\n",
    "ax = sns.scatterplot(x='Breakeven_period', y='price', data=breakeven_meanprice)\n",
    "ax.set_title('Scatter plot of Mean Rental Price vs Breakeven time')\n",
    "ax.set_xlabel('Breakeven time in years')\n",
    "ax.set_ylabel('Mean Rental price')"
   ]
  },
  {
   "cell_type": "markdown",
   "metadata": {
    "slideshow": {
     "slide_type": "fragment"
    }
   },
   "source": [
    "We can see a positive correlation between price and breakeven period. Zipcodes with lower mean rental prices have faster breakeven period compared with properties with higher mean rental price."
   ]
  },
  {
   "cell_type": "markdown",
   "metadata": {
    "slideshow": {
     "slide_type": "subslide"
    }
   },
   "source": [
    "### Approach 2 - Selection of zipcodes based of appreciation of zipcodes in last 5 years\n",
    "\n",
    "In this approach, we will be calculating the appreciation of every zipcode and then selecting the top zipcodes based on its value. The logic behind this approach is that, the zipcodes which gains its value faster will be desirable to invest in. This approach has some underlying assumptions such as:\n",
    "1. The appreciation rate in the past will stay the same in the future also.\n",
    "2. The real estate economy will stay the same as it was before. Therefore, there would be no economy decline or crisis in the nearby future.\n",
    "\n",
    "The appreciation is caculated by the formula given below\n",
    "\n",
    "\\begin{equation*}\n",
    "{Appreciation} = \\frac{New Price - Old Price}{Old Price} \n",
    "\\end{equation*}"
   ]
  },
  {
   "cell_type": "code",
   "execution_count": 55,
   "metadata": {
    "slideshow": {
     "slide_type": "subslide"
    }
   },
   "outputs": [],
   "source": [
    "# Creating a new dataframe to get median price of zipcodes dating 5 years back  \n",
    "zillow.rename(columns={'RegionName':'zipcode'}, inplace=True)\n",
    "complete = breakeven_meanprice.merge(zillow, on='zipcode',how='left')"
   ]
  },
  {
   "cell_type": "code",
   "execution_count": 56,
   "metadata": {
    "slideshow": {
     "slide_type": "subslide"
    }
   },
   "outputs": [],
   "source": [
    "# Selecting the relevant features from the dataset\n",
    "complete = complete[['zipcode','neighbourhood_group_cleansed','Breakeven_period','price','2012-06','2017-06']]"
   ]
  },
  {
   "cell_type": "code",
   "execution_count": 57,
   "metadata": {
    "slideshow": {
     "slide_type": "subslide"
    }
   },
   "outputs": [],
   "source": [
    "# Calculating the appreciation based on the above formula\n",
    "complete['Appreciation'] = (complete['2017-06']-complete['2012-06'])/complete['2012-06']"
   ]
  },
  {
   "cell_type": "code",
   "execution_count": 58,
   "metadata": {
    "slideshow": {
     "slide_type": "subslide"
    }
   },
   "outputs": [
    {
     "data": {
      "text/html": [
       "<div>\n",
       "<style scoped>\n",
       "    .dataframe tbody tr th:only-of-type {\n",
       "        vertical-align: middle;\n",
       "    }\n",
       "\n",
       "    .dataframe tbody tr th {\n",
       "        vertical-align: top;\n",
       "    }\n",
       "\n",
       "    .dataframe thead th {\n",
       "        text-align: right;\n",
       "    }\n",
       "</style>\n",
       "<table border=\"1\" class=\"dataframe\">\n",
       "  <thead>\n",
       "    <tr style=\"text-align: right;\">\n",
       "      <th></th>\n",
       "      <th>zipcode</th>\n",
       "      <th>neighbourhood_group_cleansed</th>\n",
       "      <th>Breakeven_period</th>\n",
       "      <th>price</th>\n",
       "      <th>2012-06</th>\n",
       "      <th>2017-06</th>\n",
       "      <th>Appreciation</th>\n",
       "    </tr>\n",
       "  </thead>\n",
       "  <tbody>\n",
       "    <tr>\n",
       "      <th>0</th>\n",
       "      <td>11217</td>\n",
       "      <td>Brooklyn</td>\n",
       "      <td>23.79</td>\n",
       "      <td>203.83</td>\n",
       "      <td>666300.00</td>\n",
       "      <td>1302300</td>\n",
       "      <td>0.95</td>\n",
       "    </tr>\n",
       "    <tr>\n",
       "      <th>1</th>\n",
       "      <td>11231</td>\n",
       "      <td>Brooklyn</td>\n",
       "      <td>23.10</td>\n",
       "      <td>198.50</td>\n",
       "      <td>669900.00</td>\n",
       "      <td>1202900</td>\n",
       "      <td>0.80</td>\n",
       "    </tr>\n",
       "    <tr>\n",
       "      <th>2</th>\n",
       "      <td>11215</td>\n",
       "      <td>Brooklyn</td>\n",
       "      <td>21.95</td>\n",
       "      <td>181.61</td>\n",
       "      <td>616600.00</td>\n",
       "      <td>1070800</td>\n",
       "      <td>0.74</td>\n",
       "    </tr>\n",
       "    <tr>\n",
       "      <th>3</th>\n",
       "      <td>10128</td>\n",
       "      <td>Manhattan</td>\n",
       "      <td>29.96</td>\n",
       "      <td>226.16</td>\n",
       "      <td>1045000.00</td>\n",
       "      <td>1787100</td>\n",
       "      <td>0.71</td>\n",
       "    </tr>\n",
       "    <tr>\n",
       "      <th>4</th>\n",
       "      <td>11201</td>\n",
       "      <td>Brooklyn</td>\n",
       "      <td>21.60</td>\n",
       "      <td>243.68</td>\n",
       "      <td>836700.00</td>\n",
       "      <td>1420700</td>\n",
       "      <td>0.70</td>\n",
       "    </tr>\n",
       "  </tbody>\n",
       "</table>\n",
       "</div>"
      ],
      "text/plain": [
       "  zipcode neighbourhood_group_cleansed  Breakeven_period  price    2012-06  \\\n",
       "0   11217                     Brooklyn             23.79 203.83  666300.00   \n",
       "1   11231                     Brooklyn             23.10 198.50  669900.00   \n",
       "2   11215                     Brooklyn             21.95 181.61  616600.00   \n",
       "3   10128                    Manhattan             29.96 226.16 1045000.00   \n",
       "4   11201                     Brooklyn             21.60 243.68  836700.00   \n",
       "\n",
       "   2017-06  Appreciation  \n",
       "0  1302300          0.95  \n",
       "1  1202900          0.80  \n",
       "2  1070800          0.74  \n",
       "3  1787100          0.71  \n",
       "4  1420700          0.70  "
      ]
     },
     "execution_count": 58,
     "metadata": {},
     "output_type": "execute_result"
    }
   ],
   "source": [
    "# Showing the dataset with appreciation value along with the breakeven preiod\n",
    "complete = complete.sort_values(by='Appreciation', ascending=False).reset_index(drop=True)\n",
    "complete.head()"
   ]
  },
  {
   "cell_type": "markdown",
   "metadata": {
    "slideshow": {
     "slide_type": "fragment"
    }
   },
   "source": [
    "We can see that the zipcodes that we got in the approach 1 are completely different from the one we got in approach 2. This might be due to property prices rising at a faster rate than the rent prices, therefore leading to different results. \n",
    "\n",
    "According to this approach, the profitable zipcodes to invest in are 11217, 11231, 11215, 10128 and 11201"
   ]
  },
  {
   "cell_type": "code",
   "execution_count": 59,
   "metadata": {
    "slideshow": {
     "slide_type": "subslide"
    }
   },
   "outputs": [
    {
     "data": {
      "text/plain": [
       "Text(0, 0.5, 'Appreciation')"
      ]
     },
     "execution_count": 59,
     "metadata": {},
     "output_type": "execute_result"
    },
    {
     "data": {
      "image/png": "[encoded data removed]",
      "text/plain": [
       "<Figure size 720x432 with 1 Axes>"
      ]
     },
     "metadata": {
      "needs_background": "light"
     },
     "output_type": "display_data"
    }
   ],
   "source": [
    "# Plotting Breakeven vs Appreciation graph\n",
    "plt.figure(figsize = (10,6))\n",
    "ax = sns.scatterplot('Breakeven_period','Appreciation',data=complete)\n",
    "ax.set_title('Scatter plot of Appreciation vs Breakeven time')\n",
    "ax.set_xlabel('Breakeven time in years')\n",
    "ax.set_ylabel('Appreciation')"
   ]
  },
  {
   "cell_type": "markdown",
   "metadata": {
    "slideshow": {
     "slide_type": "fragment"
    }
   },
   "source": [
    "We can see that the properties with faster breakeven period have lesser appreciation value compared with the properties having longer breakeven period. Therefore it is better to do a tradeoff analysis, which is a comprimise between a breakeven analysis and appreciation analysis. "
   ]
  },
  {
   "cell_type": "markdown",
   "metadata": {
    "slideshow": {
     "slide_type": "slide"
    }
   },
   "source": [
    "### Approach 3: Trade off  between breakeven analysis analysis and appreciation analysis\n",
    "\n",
    "After undergoing both approach 1 and approach 2, we come to a conclusion that both the analysis are important and need to be considered equally. Thus, there is going to be a tradeoff analysis, which means that zipcodes have to be considered equally based on breakeven, i.e. when they will start earning the profit and also based on the reasonable appreciation rate"
   ]
  },
  {
   "cell_type": "markdown",
   "metadata": {
    "slideshow": {
     "slide_type": "subslide"
    }
   },
   "source": [
    "### Solution\n",
    "\n",
    "According to me, the approach 3 is the right solution which considers both breakeven analysis and appreciation analysis and comes to a conclusion that the tradeoff has to done between them. "
   ]
  },
  {
   "cell_type": "code",
   "execution_count": 60,
   "metadata": {
    "slideshow": {
     "slide_type": "subslide"
    }
   },
   "outputs": [
    {
     "data": {
      "text/plain": [
       "<matplotlib.collections.LineCollection at 0x251ac163048>"
      ]
     },
     "execution_count": 60,
     "metadata": {},
     "output_type": "execute_result"
    },
    {
     "data": {
      "image/png": "[encoded data removed]",
      "text/plain": [
       "<Figure size 720x432 with 1 Axes>"
      ]
     },
     "metadata": {
      "needs_background": "light"
     },
     "output_type": "display_data"
    }
   ],
   "source": [
    "# Enclosing the important zipcode considering both approach 1 and approach 2\n",
    "plt.figure(figsize = (10,6))\n",
    "ax = sns.scatterplot('Breakeven_period','Appreciation',data=complete)\n",
    "\n",
    "ax.set_title('Scatter plot of Appreciation vs Breakeven time')\n",
    "ax.set_xlabel('Breakeven time in years')\n",
    "ax.set_ylabel('Appreciation')\n",
    "\n",
    "plt.vlines(x=[6,12.5], ymin=0, ymax=1, linestyle=\"dashed\")\n",
    "plt.hlines(y=[0.55,0.335], xmin=5, xmax=45,linestyle='dashed')"
   ]
  },
  {
   "cell_type": "code",
   "execution_count": 61,
   "metadata": {
    "slideshow": {
     "slide_type": "subslide"
    }
   },
   "outputs": [
    {
     "data": {
      "text/html": [
       "<div>\n",
       "<style scoped>\n",
       "    .dataframe tbody tr th:only-of-type {\n",
       "        vertical-align: middle;\n",
       "    }\n",
       "\n",
       "    .dataframe tbody tr th {\n",
       "        vertical-align: top;\n",
       "    }\n",
       "\n",
       "    .dataframe thead th {\n",
       "        text-align: right;\n",
       "    }\n",
       "</style>\n",
       "<table border=\"1\" class=\"dataframe\">\n",
       "  <thead>\n",
       "    <tr style=\"text-align: right;\">\n",
       "      <th></th>\n",
       "      <th>zipcode</th>\n",
       "      <th>neighbourhood_group_cleansed</th>\n",
       "      <th>Breakeven_period</th>\n",
       "      <th>price</th>\n",
       "      <th>2012-06</th>\n",
       "      <th>2017-06</th>\n",
       "      <th>Appreciation</th>\n",
       "    </tr>\n",
       "  </thead>\n",
       "  <tbody>\n",
       "    <tr>\n",
       "      <th>10</th>\n",
       "      <td>11434</td>\n",
       "      <td>Queens</td>\n",
       "      <td>11.25</td>\n",
       "      <td>136.88</td>\n",
       "      <td>257100.00</td>\n",
       "      <td>382300</td>\n",
       "      <td>0.49</td>\n",
       "    </tr>\n",
       "    <tr>\n",
       "      <th>12</th>\n",
       "      <td>10304</td>\n",
       "      <td>Staten Island</td>\n",
       "      <td>11.35</td>\n",
       "      <td>93.33</td>\n",
       "      <td>229200.00</td>\n",
       "      <td>328300</td>\n",
       "      <td>0.43</td>\n",
       "    </tr>\n",
       "    <tr>\n",
       "      <th>14</th>\n",
       "      <td>10303</td>\n",
       "      <td>Staten Island</td>\n",
       "      <td>10.85</td>\n",
       "      <td>104.00</td>\n",
       "      <td>230900.00</td>\n",
       "      <td>327700</td>\n",
       "      <td>0.42</td>\n",
       "    </tr>\n",
       "    <tr>\n",
       "      <th>15</th>\n",
       "      <td>10305</td>\n",
       "      <td>Staten Island</td>\n",
       "      <td>12.05</td>\n",
       "      <td>132.00</td>\n",
       "      <td>299700.00</td>\n",
       "      <td>425100</td>\n",
       "      <td>0.42</td>\n",
       "    </tr>\n",
       "    <tr>\n",
       "      <th>17</th>\n",
       "      <td>11003</td>\n",
       "      <td>Queens</td>\n",
       "      <td>6.82</td>\n",
       "      <td>180.00</td>\n",
       "      <td>258700.00</td>\n",
       "      <td>347500</td>\n",
       "      <td>0.34</td>\n",
       "    </tr>\n",
       "  </tbody>\n",
       "</table>\n",
       "</div>"
      ],
      "text/plain": [
       "   zipcode neighbourhood_group_cleansed  Breakeven_period  price   2012-06  \\\n",
       "10   11434                       Queens             11.25 136.88 257100.00   \n",
       "12   10304                Staten Island             11.35  93.33 229200.00   \n",
       "14   10303                Staten Island             10.85 104.00 230900.00   \n",
       "15   10305                Staten Island             12.05 132.00 299700.00   \n",
       "17   11003                       Queens              6.82 180.00 258700.00   \n",
       "\n",
       "    2017-06  Appreciation  \n",
       "10   382300          0.49  \n",
       "12   328300          0.43  \n",
       "14   327700          0.42  \n",
       "15   425100          0.42  \n",
       "17   347500          0.34  "
      ]
     },
     "execution_count": 61,
     "metadata": {},
     "output_type": "execute_result"
    }
   ],
   "source": [
    "# Filtering the data representing the top zipcodes\n",
    "complete[(complete['Appreciation'] > 0.335) & (complete['Appreciation'] < 0.55) & (complete['Breakeven_period'] > 6) & \n",
    "         (complete['Breakeven_period'] < 12.5)]"
   ]
  },
  {
   "cell_type": "markdown",
   "metadata": {
    "slideshow": {
     "slide_type": "fragment"
    }
   },
   "source": [
    "According to the tradeoff analysis, the zipcodes enclosed in the box of 2 vertical and horizontal lines are the right to invest in. This is because they have the right appreciation value along with breakeven period. The recommended zipcodes to invest in are 11434, 10305, 10303, 10304, 11003"
   ]
  },
  {
   "cell_type": "markdown",
   "metadata": {
    "slideshow": {
     "slide_type": "slide"
    }
   },
   "source": [
    "## Conclusion\n",
    "\n",
    "According to me, approach 3 is the right way to decide on zipcodes to invest in. Therefore, following zipcodes should be considered for investment: 11434, 10305, 10303, 10304, 11003"
   ]
  },
  {
   "cell_type": "markdown",
   "metadata": {
    "slideshow": {
     "slide_type": "subslide"
    }
   },
   "source": [
    "## Things that could have been included\n",
    "\n",
    "1. After inner joining the datasets (airbnb_set and zillow_set), the data decreased drastically to 1/4th of it. I could have used left join and scrapped the median house prices online for those zipcodes which were not available. This would have lead to better analysis.\n",
    "2. Factors such as connectivity to subway station, proximity to restaurants nearby could have been used for analysis"
   ]
  }
 ],
 "metadata": {
  "kernelspec": {
   "display_name": "Python 3",
   "language": "python",
   "name": "python3"
  },
  "language_info": {
   "codemirror_mode": {
    "name": "ipython",
    "version": 3
   },
   "file_extension": ".py",
   "mimetype": "text/x-python",
   "name": "python",
   "nbconvert_exporter": "python",
   "pygments_lexer": "ipython3",
   "version": "3.7.1"
  }
 },
 "nbformat": 4,
 "nbformat_minor": 2
}
